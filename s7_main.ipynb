{
  "nbformat": 4,
  "nbformat_minor": 0,
  "metadata": {
    "colab": {
      "name": "s7_main.ipynb",
      "provenance": [],
      "collapsed_sections": [],
      "authorship_tag": "ABX9TyOJdqxLGwE+dcAuf6rCiYMs",
      "include_colab_link": true
    },
    "kernelspec": {
      "name": "python3",
      "display_name": "Python 3"
    },
    "accelerator": "GPU"
  },
  "cells": [
    {
      "cell_type": "markdown",
      "metadata": {
        "id": "view-in-github",
        "colab_type": "text"
      },
      "source": [
        "<a href=\"https://colab.research.google.com/github/s-sridhar24/EVA4-S7/blob/master/s7_main.ipynb\" target=\"_parent\"><img src=\"https://colab.research.google.com/assets/colab-badge.svg\" alt=\"Open In Colab\"/></a>"
      ]
    },
    {
      "cell_type": "code",
      "metadata": {
        "id": "iLiX-jDPaGQA",
        "colab_type": "code",
        "colab": {}
      },
      "source": [
        "from google.colab import drive"
      ],
      "execution_count": 0,
      "outputs": []
    },
    {
      "cell_type": "code",
      "metadata": {
        "id": "xtd03nS6-56c",
        "colab_type": "code",
        "outputId": "c0b76ad7-f1ea-43a1-f942-66f8cea34897",
        "colab": {
          "base_uri": "https://localhost:8080/",
          "height": 36
        }
      },
      "source": [
        "drive.mount('/content/content', force_remount=True)"
      ],
      "execution_count": 2,
      "outputs": [
        {
          "output_type": "stream",
          "text": [
            "Mounted at /content/content\n"
          ],
          "name": "stdout"
        }
      ]
    },
    {
      "cell_type": "code",
      "metadata": {
        "id": "Kz-22wgBfy1M",
        "colab_type": "code",
        "colab": {}
      },
      "source": [
        "# os.listdir()\n",
        "# os.listdir('/content')\n",
        "#os.listdir('/content/content/')\n",
        "#os.listdir('/content/content/My Drive')\n",
        "#os.listdir('/content/content/My Drive/EVA')\n",
        "#os.listdir('/content/content/My Drive/EVA/Session 7')"
      ],
      "execution_count": 0,
      "outputs": []
    },
    {
      "cell_type": "code",
      "metadata": {
        "id": "PZaQfKMyb07-",
        "colab_type": "code",
        "outputId": "a26d21fe-5c72-4684-db34-2354f52da3d9",
        "colab": {
          "base_uri": "https://localhost:8080/",
          "height": 36
        }
      },
      "source": [
        "my_path = \"/content/content/My Drive/EVA/Session 7\"\n",
        "import os\n",
        "os.chdir(my_path)\n",
        "os.getcwd()"
      ],
      "execution_count": 4,
      "outputs": [
        {
          "output_type": "execute_result",
          "data": {
            "text/plain": [
              "'/content/content/My Drive/EVA/Session 7'"
            ]
          },
          "metadata": {
            "tags": []
          },
          "execution_count": 4
        }
      ]
    },
    {
      "cell_type": "code",
      "metadata": {
        "id": "imlxgHxnjESZ",
        "colab_type": "code",
        "outputId": "e6cd599e-f0a7-4c35-8bd3-e9548b5b19ff",
        "colab": {
          "base_uri": "https://localhost:8080/",
          "height": 36
        }
      },
      "source": [
        "import torch\n",
        "import torch.nn as nn\n",
        "import torch.nn.functional as F\n",
        "!pip install torchsummary\n",
        "from torchsummary import summary"
      ],
      "execution_count": 5,
      "outputs": [
        {
          "output_type": "stream",
          "text": [
            "Requirement already satisfied: torchsummary in /usr/local/lib/python3.6/dist-packages (1.5.1)\n"
          ],
          "name": "stdout"
        }
      ]
    },
    {
      "cell_type": "code",
      "metadata": {
        "id": "NTTx5vLAA82K",
        "colab_type": "code",
        "outputId": "830e8614-ab8b-4cfd-8c72-c36bc0ea79ab",
        "colab": {
          "base_uri": "https://localhost:8080/",
          "height": 36
        }
      },
      "source": [
        "use_cuda = torch.cuda.is_available()\n",
        "device = torch.device(\"cuda\" if use_cuda else \"cpu\")\n",
        "device"
      ],
      "execution_count": 6,
      "outputs": [
        {
          "output_type": "execute_result",
          "data": {
            "text/plain": [
              "device(type='cuda')"
            ]
          },
          "metadata": {
            "tags": []
          },
          "execution_count": 6
        }
      ]
    },
    {
      "cell_type": "code",
      "metadata": {
        "id": "itBZPi1HcaMF",
        "colab_type": "code",
        "outputId": "a9c7fe4e-32d9-4569-e380-e4d968588303",
        "colab": {
          "base_uri": "https://localhost:8080/",
          "height": 55
        }
      },
      "source": [
        "import fetch_data_step\n",
        "trainset, trainloader, testset, testloader, classes = fetch_data_step.fetch_data_step()"
      ],
      "execution_count": 7,
      "outputs": [
        {
          "output_type": "stream",
          "text": [
            "Files already downloaded and verified\n",
            "Files already downloaded and verified\n"
          ],
          "name": "stdout"
        }
      ]
    },
    {
      "cell_type": "code",
      "metadata": {
        "id": "j1hAndsCgiLp",
        "colab_type": "code",
        "colab": {}
      },
      "source": [
        "#import net_arch\n",
        "import vs_net\n",
        "#net = net_arch.Net()\n",
        "net = vs_net.vs_net()"
      ],
      "execution_count": 0,
      "outputs": []
    },
    {
      "cell_type": "code",
      "metadata": {
        "id": "XADLtyXDlX-A",
        "colab_type": "code",
        "outputId": "3ffac20a-d4e9-485a-81db-a6cd2f14ffcb",
        "colab": {
          "base_uri": "https://localhost:8080/",
          "height": 1000
        }
      },
      "source": [
        "net = net.to(device)\n",
        "print(summary(net, input_size=(3, 32, 32)))"
      ],
      "execution_count": 9,
      "outputs": [
        {
          "output_type": "stream",
          "text": [
            "----------------------------------------------------------------\n",
            "        Layer (type)               Output Shape         Param #\n",
            "================================================================\n",
            "            Conv2d-1           [-1, 16, 32, 32]             448\n",
            "       BatchNorm2d-2           [-1, 16, 32, 32]              32\n",
            "              ReLU-3           [-1, 16, 32, 32]               0\n",
            "           Dropout-4           [-1, 16, 32, 32]               0\n",
            "            Conv2d-5           [-1, 32, 32, 32]           4,640\n",
            "       BatchNorm2d-6           [-1, 32, 32, 32]              64\n",
            "              ReLU-7           [-1, 32, 32, 32]               0\n",
            "           Dropout-8           [-1, 32, 32, 32]               0\n",
            "         MaxPool2d-9           [-1, 32, 16, 16]               0\n",
            "           Conv2d-10           [-1, 64, 16, 16]          18,496\n",
            "      BatchNorm2d-11           [-1, 64, 16, 16]             128\n",
            "             ReLU-12           [-1, 64, 16, 16]               0\n",
            "          Dropout-13           [-1, 64, 16, 16]               0\n",
            "           Conv2d-14          [-1, 128, 14, 14]          73,856\n",
            "      BatchNorm2d-15          [-1, 128, 14, 14]             256\n",
            "             ReLU-16          [-1, 128, 14, 14]               0\n",
            "          Dropout-17          [-1, 128, 14, 14]               0\n",
            "        MaxPool2d-18            [-1, 128, 7, 7]               0\n",
            "           Conv2d-19             [-1, 64, 7, 7]           8,256\n",
            "      BatchNorm2d-20             [-1, 64, 7, 7]             128\n",
            "             ReLU-21             [-1, 64, 7, 7]               0\n",
            "           Conv2d-22            [-1, 128, 7, 7]          73,856\n",
            "      BatchNorm2d-23            [-1, 128, 7, 7]             256\n",
            "             ReLU-24            [-1, 128, 7, 7]               0\n",
            "          Dropout-25            [-1, 128, 7, 7]               0\n",
            "           Conv2d-26            [-1, 256, 7, 7]         295,168\n",
            "      BatchNorm2d-27            [-1, 256, 7, 7]             512\n",
            "             ReLU-28            [-1, 256, 7, 7]               0\n",
            "          Dropout-29            [-1, 256, 7, 7]               0\n",
            "        MaxPool2d-30            [-1, 256, 3, 3]               0\n",
            "           Conv2d-31             [-1, 64, 3, 3]          16,448\n",
            "      BatchNorm2d-32             [-1, 64, 3, 3]             128\n",
            "             ReLU-33             [-1, 64, 3, 3]               0\n",
            "           Conv2d-34            [-1, 128, 3, 3]          73,856\n",
            "      BatchNorm2d-35            [-1, 128, 3, 3]             256\n",
            "             ReLU-36            [-1, 128, 3, 3]               0\n",
            "          Dropout-37            [-1, 128, 3, 3]               0\n",
            "           Conv2d-38            [-1, 128, 3, 3]           1,280\n",
            "           Conv2d-39            [-1, 256, 3, 3]          33,024\n",
            "      BatchNorm2d-40            [-1, 256, 3, 3]             512\n",
            "             ReLU-41            [-1, 256, 3, 3]               0\n",
            "          Dropout-42            [-1, 256, 3, 3]               0\n",
            "           Conv2d-43             [-1, 10, 3, 3]           2,570\n",
            "      BatchNorm2d-44             [-1, 10, 3, 3]              20\n",
            "             ReLU-45             [-1, 10, 3, 3]               0\n",
            "        AvgPool2d-46             [-1, 10, 1, 1]               0\n",
            "================================================================\n",
            "Total params: 604,190\n",
            "Trainable params: 604,190\n",
            "Non-trainable params: 0\n",
            "----------------------------------------------------------------\n",
            "Input size (MB): 0.01\n",
            "Forward/backward pass size (MB): 3.67\n",
            "Params size (MB): 2.30\n",
            "Estimated Total Size (MB): 5.99\n",
            "----------------------------------------------------------------\n",
            "None\n"
          ],
          "name": "stdout"
        }
      ]
    },
    {
      "cell_type": "code",
      "metadata": {
        "id": "t-afSUe5hfAp",
        "colab_type": "code",
        "colab": {}
      },
      "source": [
        "import torch.optim as optim\n",
        "criterion = nn.CrossEntropyLoss()\n",
        "optimizer = optim.SGD(net.parameters(), lr=0.001, momentum=0.9)"
      ],
      "execution_count": 0,
      "outputs": []
    },
    {
      "cell_type": "code",
      "metadata": {
        "id": "S1IExxVPPXMF",
        "colab_type": "code",
        "outputId": "7d94499e-504a-496e-aa35-a3c29581c6d4",
        "colab": {
          "base_uri": "https://localhost:8080/",
          "height": 1000
        }
      },
      "source": [
        "import train_net\n",
        "for epoch in range(20):  # loop over the dataset multiple times\n",
        "  train_net.train_net(epoch, device, net, trainloader, optimizer, criterion)\n",
        "print('Finished Training')"
      ],
      "execution_count": 11,
      "outputs": [
        {
          "output_type": "stream",
          "text": [
            "[1,  2000] loss: 2.029\n",
            "[1,  4000] loss: 1.856\n",
            "[1,  6000] loss: 1.779\n",
            "[1,  8000] loss: 1.661\n",
            "[1, 10000] loss: 1.583\n",
            "[1, 12000] loss: 1.506\n",
            "[2,  2000] loss: 1.412\n",
            "[2,  4000] loss: 1.345\n",
            "[2,  6000] loss: 1.295\n",
            "[2,  8000] loss: 1.243\n",
            "[2, 10000] loss: 1.215\n",
            "[2, 12000] loss: 1.167\n",
            "[3,  2000] loss: 1.095\n",
            "[3,  4000] loss: 1.064\n",
            "[3,  6000] loss: 1.074\n",
            "[3,  8000] loss: 1.053\n",
            "[3, 10000] loss: 1.023\n",
            "[3, 12000] loss: 1.004\n",
            "[4,  2000] loss: 0.961\n",
            "[4,  4000] loss: 0.960\n",
            "[4,  6000] loss: 0.938\n",
            "[4,  8000] loss: 0.908\n",
            "[4, 10000] loss: 0.911\n",
            "[4, 12000] loss: 0.889\n",
            "[5,  2000] loss: 0.848\n",
            "[5,  4000] loss: 0.845\n",
            "[5,  6000] loss: 0.816\n",
            "[5,  8000] loss: 0.834\n",
            "[5, 10000] loss: 0.814\n",
            "[5, 12000] loss: 0.826\n",
            "[6,  2000] loss: 0.764\n",
            "[6,  4000] loss: 0.756\n",
            "[6,  6000] loss: 0.761\n",
            "[6,  8000] loss: 0.740\n",
            "[6, 10000] loss: 0.766\n",
            "[6, 12000] loss: 0.764\n",
            "[7,  2000] loss: 0.696\n",
            "[7,  4000] loss: 0.681\n",
            "[7,  6000] loss: 0.705\n",
            "[7,  8000] loss: 0.701\n",
            "[7, 10000] loss: 0.691\n",
            "[7, 12000] loss: 0.699\n",
            "[8,  2000] loss: 0.630\n",
            "[8,  4000] loss: 0.653\n",
            "[8,  6000] loss: 0.649\n",
            "[8,  8000] loss: 0.640\n",
            "[8, 10000] loss: 0.653\n",
            "[8, 12000] loss: 0.642\n",
            "[9,  2000] loss: 0.592\n",
            "[9,  4000] loss: 0.597\n",
            "[9,  6000] loss: 0.610\n",
            "[9,  8000] loss: 0.621\n",
            "[9, 10000] loss: 0.586\n",
            "[9, 12000] loss: 0.612\n",
            "[10,  2000] loss: 0.554\n",
            "[10,  4000] loss: 0.559\n",
            "[10,  6000] loss: 0.578\n",
            "[10,  8000] loss: 0.584\n",
            "[10, 10000] loss: 0.571\n",
            "[10, 12000] loss: 0.558\n",
            "[11,  2000] loss: 0.531\n",
            "[11,  4000] loss: 0.529\n",
            "[11,  6000] loss: 0.524\n",
            "[11,  8000] loss: 0.547\n",
            "[11, 10000] loss: 0.544\n",
            "[11, 12000] loss: 0.543\n",
            "[12,  2000] loss: 0.486\n",
            "[12,  4000] loss: 0.509\n",
            "[12,  6000] loss: 0.488\n",
            "[12,  8000] loss: 0.505\n",
            "[12, 10000] loss: 0.528\n",
            "[12, 12000] loss: 0.512\n",
            "[13,  2000] loss: 0.444\n",
            "[13,  4000] loss: 0.490\n",
            "[13,  6000] loss: 0.450\n",
            "[13,  8000] loss: 0.475\n",
            "[13, 10000] loss: 0.500\n",
            "[13, 12000] loss: 0.493\n",
            "[14,  2000] loss: 0.428\n",
            "[14,  4000] loss: 0.436\n",
            "[14,  6000] loss: 0.456\n",
            "[14,  8000] loss: 0.459\n",
            "[14, 10000] loss: 0.477\n",
            "[14, 12000] loss: 0.475\n",
            "[15,  2000] loss: 0.411\n",
            "[15,  4000] loss: 0.420\n",
            "[15,  6000] loss: 0.448\n",
            "[15,  8000] loss: 0.428\n",
            "[15, 10000] loss: 0.443\n",
            "[15, 12000] loss: 0.434\n",
            "[16,  2000] loss: 0.378\n",
            "[16,  4000] loss: 0.390\n",
            "[16,  6000] loss: 0.398\n",
            "[16,  8000] loss: 0.409\n",
            "[16, 10000] loss: 0.445\n",
            "[16, 12000] loss: 0.423\n",
            "[17,  2000] loss: 0.377\n",
            "[17,  4000] loss: 0.397\n",
            "[17,  6000] loss: 0.384\n",
            "[17,  8000] loss: 0.385\n",
            "[17, 10000] loss: 0.396\n",
            "[17, 12000] loss: 0.412\n",
            "[18,  2000] loss: 0.370\n",
            "[18,  4000] loss: 0.366\n",
            "[18,  6000] loss: 0.381\n",
            "[18,  8000] loss: 0.378\n",
            "[18, 10000] loss: 0.380\n",
            "[18, 12000] loss: 0.390\n",
            "[19,  2000] loss: 0.347\n",
            "[19,  4000] loss: 0.344\n",
            "[19,  6000] loss: 0.364\n",
            "[19,  8000] loss: 0.360\n",
            "[19, 10000] loss: 0.373\n",
            "[19, 12000] loss: 0.370\n",
            "[20,  2000] loss: 0.339\n",
            "[20,  4000] loss: 0.334\n",
            "[20,  6000] loss: 0.344\n",
            "[20,  8000] loss: 0.333\n",
            "[20, 10000] loss: 0.360\n",
            "[20, 12000] loss: 0.344\n",
            "Finished Training\n"
          ],
          "name": "stdout"
        }
      ]
    },
    {
      "cell_type": "code",
      "metadata": {
        "id": "XE1ei2VEWP3v",
        "colab_type": "code",
        "outputId": "890c6f67-07a9-4033-917a-7fb34885c706",
        "colab": {
          "base_uri": "https://localhost:8080/",
          "height": 36
        }
      },
      "source": [
        "import test_net\n",
        "test_net.test_net(net, device, testloader)"
      ],
      "execution_count": 12,
      "outputs": [
        {
          "output_type": "stream",
          "text": [
            "Accuracy of the network on the 10000 test images: 80 %\n"
          ],
          "name": "stdout"
        }
      ]
    },
    {
      "cell_type": "code",
      "metadata": {
        "id": "aUA8R-6PeYsR",
        "colab_type": "code",
        "outputId": "bb130565-1fe7-4863-b42f-07479b21bc59",
        "colab": {
          "base_uri": "https://localhost:8080/",
          "height": 207
        }
      },
      "source": [
        "import class_acc\n",
        "class_acc.class_acc(testloader, net, device, classes)"
      ],
      "execution_count": 13,
      "outputs": [
        {
          "output_type": "stream",
          "text": [
            "Accuracy of plane : 83 %\n",
            "Accuracy of   car : 92 %\n",
            "Accuracy of  bird : 75 %\n",
            "Accuracy of   cat : 62 %\n",
            "Accuracy of  deer : 79 %\n",
            "Accuracy of   dog : 76 %\n",
            "Accuracy of  frog : 87 %\n",
            "Accuracy of horse : 76 %\n",
            "Accuracy of  ship : 88 %\n",
            "Accuracy of truck : 81 %\n"
          ],
          "name": "stdout"
        }
      ]
    }
  ]
}